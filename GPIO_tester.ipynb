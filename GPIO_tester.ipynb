{
 "metadata": {
  "name": "",
  "signature": "sha256:8042626c7108587759864a300b218328213f3474aa13d637bf256ecb9fd30f04"
 },
 "nbformat": 3,
 "nbformat_minor": 0,
 "worksheets": [
  {
   "cells": [
    {
     "cell_type": "code",
     "collapsed": false,
     "input": [
      "import time\n",
      "import RPi.GPIO as GPIO\n",
      "GPIO.setmode(GPIO.BOARD) #set pin numbering scheme to same as the GPIO header pins\n",
      "GPIO.setup(12, GPIO.OUT) #set GPIO pin 18 as an output pin\n",
      "while True:\n",
      "    GPIO.output(12, GPIO.HIGH)\n",
      "    time.sleep(1)\n",
      "    GPIO.output(12, GPIO.LOW)\n",
      "    time.sleep(1)\n",
      "    "
     ],
     "language": "python",
     "metadata": {},
     "outputs": []
    },
    {
     "cell_type": "code",
     "collapsed": false,
     "input": [],
     "language": "python",
     "metadata": {},
     "outputs": [],
     "prompt_number": 5
    },
    {
     "cell_type": "code",
     "collapsed": false,
     "input": [],
     "language": "python",
     "metadata": {},
     "outputs": [],
     "prompt_number": 5
    },
    {
     "cell_type": "code",
     "collapsed": false,
     "input": [],
     "language": "python",
     "metadata": {},
     "outputs": []
    }
   ],
   "metadata": {}
  }
 ]
}